{
 "cells": [
  {
   "cell_type": "code",
   "execution_count": 34,
   "metadata": {},
   "outputs": [],
   "source": [
    "import numpy as np\n",
    "import matplotlib.pyplot as plt"
   ]
  },
  {
   "cell_type": "code",
   "execution_count": 35,
   "metadata": {},
   "outputs": [],
   "source": [
    "samples = np.genfromtxt(\"../../build/tests/sampling/samples_1D.txt\")\n",
    "samples_alias = np.genfromtxt(\"../../build/tests/sampling/samples_1D_alias.txt\")"
   ]
  },
  {
   "cell_type": "code",
   "execution_count": null,
   "metadata": {},
   "outputs": [],
   "source": [
    "fig, (ax1, ax2) = plt.subplots(1, 2, figsize=(10, 4))\n",
    "nbins = 40\n",
    "\n",
    "# create histogram of samples\n",
    "x = np.linspace(-3, 3, 1000)\n",
    "expected = 1/np.sqrt(np.pi)*np.exp(-x**2)\n",
    "\n",
    "ax1.hist(samples, bins=nbins, density=True, alpha=0.6, color='g', label='Samples')\n",
    "ax1.plot(x, expected, 'r', label='Expected')\n",
    "ax1.set(xlabel='x', ylabel='Probability', title='Histogram of samples')\n",
    "ax1.legend(loc='upper right')\n",
    "\n",
    "ax2.hist(samples_alias, bins=nbins, density=True, alpha=0.6, color='g', label='Alias Samples')\n",
    "ax2.plot(x, expected, 'r', label='Expected')\n",
    "ax2.set(xlabel='x', ylabel='Probability', title='Histogram of samples (alias)')\n",
    "ax2.legend(loc='upper right')\n",
    "\n",
    "plt.show()"
   ]
  },
  {
   "cell_type": "code",
   "execution_count": 37,
   "metadata": {},
   "outputs": [],
   "source": [
    "samples_2D = np.genfromtxt(\"../../build/tests/sampling/samples_2D.txt\", delimiter=\",\")"
   ]
  },
  {
   "cell_type": "code",
   "execution_count": null,
   "metadata": {},
   "outputs": [],
   "source": [
    "# create histogram of samples\n",
    "\n",
    "h, xedges, yedges, _ = plt.hist2d(samples_2D[:,0], samples_2D[:,1], bins=30, density=True, alpha=0.6, color='g')\n",
    "\n",
    "plt.xlabel('x')\n",
    "plt.ylabel('Probability')\n",
    "plt.title('Histogram of samples')\n",
    "\n",
    "plt.show()"
   ]
  },
  {
   "cell_type": "code",
   "execution_count": 39,
   "metadata": {},
   "outputs": [],
   "source": [
    "# generate custom distribution\n",
    "\n",
    "x = np.linspace(5, 95, 1000)\n",
    "y = 1 / np.sin(x * np.pi / 100)\n",
    "\n",
    "norm = (np.log(np.tan(x[-1] * np.pi / 100 / 2)) - np.log(np.tan(x[0] * np.pi / 100 / 2))) * 100 / np.pi\n",
    "\n",
    "np.savetxt(\"../../build/tests/sampling/custom_distribution.txt\", np.column_stack((x, y)))"
   ]
  },
  {
   "cell_type": "code",
   "execution_count": null,
   "metadata": {},
   "outputs": [],
   "source": [
    "samples_custom = np.genfromtxt(\"../../build/tests/sampling/samples_custom.txt\")\n",
    "\n",
    "plt.hist(samples_custom, bins=50, density=True, alpha=0.6, color='g', label='Samples')\n",
    "plt.plot(x, y / norm, 'r', label='Expected')\n",
    "plt.legend(loc='upper right')\n",
    "plt.show()"
   ]
  },
  {
   "cell_type": "code",
   "execution_count": null,
   "metadata": {},
   "outputs": [],
   "source": []
  }
 ],
 "metadata": {
  "kernelspec": {
   "display_name": ".venv",
   "language": "python",
   "name": "python3"
  },
  "language_info": {
   "codemirror_mode": {
    "name": "ipython",
    "version": 3
   },
   "file_extension": ".py",
   "mimetype": "text/x-python",
   "name": "python",
   "nbconvert_exporter": "python",
   "pygments_lexer": "ipython3",
   "version": "3.12.3"
  }
 },
 "nbformat": 4,
 "nbformat_minor": 2
}
